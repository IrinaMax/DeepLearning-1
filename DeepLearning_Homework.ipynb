{
 "cells": [
  {
   "cell_type": "markdown",
   "metadata": {},
   "source": [
    "# HomeWork for Week 6 (Deep Learning)"
   ]
  },
  {
   "cell_type": "markdown",
   "metadata": {},
   "source": [
    "## Problem 1"
   ]
  },
  {
   "cell_type": "raw",
   "metadata": {},
   "source": [
    "----------------------\n",
    "Multi Layer Perceptron\n",
    "----------------------\n",
    "In the previous notebook, we learnt how to build a multi layer Neural Network. This multi layer Neural Network model was trained using the \"moons\" dummy dataset created in Python as follows."
   ]
  },
  {
   "cell_type": "code",
   "execution_count": null,
   "metadata": {
    "collapsed": false
   },
   "outputs": [],
   "source": [
    "import numpy as np\n",
    "import sklearn\n",
    "import sklearn.datasets\n",
    "import matplotlib.pyplot as plt\n",
    "import matplotlib\n",
    "\n",
    "# Display plots inline and change default figure size\n",
    "%matplotlib inline\n",
    "matplotlib.rcParams['figure.figsize'] = (10.0, 8.0)\n",
    "\n",
    "# Generate a moons dataset and plot it\n",
    "np.random.seed(0)\n",
    "X, y = sklearn.datasets.make_moons(200, noise=0.20)\n",
    "plt.scatter(X[:,0], X[:,1], s=40, c=y, cmap=plt.cm.Spectral)"
   ]
  },
  {
   "cell_type": "raw",
   "metadata": {},
   "source": [
    "Now, change this dataset to another dummy dataset of \"circles\" and train the multilayer Neural Network again."
   ]
  },
  {
   "cell_type": "code",
   "execution_count": null,
   "metadata": {
    "collapsed": false
   },
   "outputs": [],
   "source": [
    "# Generate a circles toy dataset and plot it\n",
    "np.random.seed(0)\n",
    "X, y = sklearn.datasets.make_circles(200, noise=0.05)\n",
    "plt.scatter(X[:,0], X[:,1], s=40, c=y, cmap=plt.cm.Spectral)"
   ]
  },
  {
   "cell_type": "raw",
   "metadata": {},
   "source": [
    "For the Neural Networks created on \"circles\" dummy dataset,\n",
    "\n",
    "Problem 1a.) Plot decision boundary for the case of 1 hidden layer.\n",
    "Problem 1b.) Plot decision boundary for the case of 3 hidden layers.\n",
    "Problem 1c.) Comment on the difference in decision boundaries in the two cases."
   ]
  },
  {
   "cell_type": "markdown",
   "metadata": {},
   "source": [
    "## Problem 2"
   ]
  },
  {
   "cell_type": "raw",
   "metadata": {},
   "source": [
    "-------------\n",
    "Theano basics\n",
    "-------------\n",
    "\n",
    "In the previous notebook, we learnt how to create Theno based symbolic functions to add two scalars and to add two matrices as follows."
   ]
  },
  {
   "cell_type": "code",
   "execution_count": null,
   "metadata": {
    "collapsed": false
   },
   "outputs": [],
   "source": [
    "from theano import tensor as T\n",
    "from theano import function\n",
    "\n",
    "#Function to add two scalars\n",
    "x = T.dscalar('x')\n",
    "y = T.dscalar('y')\n",
    "z = x + y\n",
    "f = function([x, y], z)\n",
    "\n",
    "f(2, 3)\n",
    "\n",
    "#Function to add two matrices\n",
    "x1 = T.dmatrix('x')\n",
    "y1 = T.dmatrix('y')\n",
    "z1 = x1 + y1\n",
    "f1 = function([x1, y1], z1)\n",
    "\n",
    "f1([[1, 2], [3, 4]], [[10, 20], [30, 40]])"
   ]
  },
  {
   "cell_type": "raw",
   "metadata": {},
   "source": [
    "Problem 2a.) Write a theano function named f to calculate dot product of two matrices.\n",
    "\n",
    "Use this function f to find out f([[1, 2], [3, 4]], [[10, 20], [30, 40]]) \n",
    "\n",
    "**Helper code provided below"
   ]
  },
  {
   "cell_type": "raw",
   "metadata": {},
   "source": [
    "Problem 2 b.) Write a theano function named f1 to calculate dot product of a vector and a matrix.\n",
    "\n",
    "Use this function to find out f1([[1, 2], [3, 4]],[10,20])\n",
    "\n",
    "**Helper code provided below"
   ]
  },
  {
   "cell_type": "code",
   "execution_count": null,
   "metadata": {
    "collapsed": false
   },
   "outputs": [],
   "source": [
    "from theano import tensor as T\n",
    "from theano import function\n",
    "\n",
    "x = T.matrix()\n",
    "y = T.matrix()\n",
    "a = T.vector()\n",
    "\n",
    "# Matrix-matrix product\n",
    "b = T.dot(x, y)\n",
    "\n",
    "###\n",
    "#Write code here to create function f (for Problem 2a)\n",
    "\n",
    "# Matrix-vector product\n",
    "c = T.dot(x, a)\n",
    "\n",
    "###\n",
    "#Write code here to create function f1 (for Problem 2b)"
   ]
  },
  {
   "cell_type": "markdown",
   "metadata": {},
   "source": [
    "# Problem 3"
   ]
  },
  {
   "cell_type": "raw",
   "metadata": {},
   "source": [
    "-------------\n",
    "Deep Learning\n",
    "-------------\n",
    "\n",
    "Problem 3a. Check out this browser based demo about training a deep learning based model on MNIST handwrittendigits dataset.\n",
    "\n",
    "http://cs.stanford.edu/people/karpathy/convnetjs/demo/mnist.html\n",
    "\n",
    "The MNIST dataset is a very popular dataset used in the Deep Learning community. You can read more about this dataset here:\n",
    "\n",
    "http://yann.lecun.com/exdb/mnist/"
   ]
  }
 ],
 "metadata": {
  "kernelspec": {
   "display_name": "Python 3",
   "language": "python",
   "name": "python3"
  },
  "language_info": {
   "codemirror_mode": {
    "name": "ipython",
    "version": 3
   },
   "file_extension": ".py",
   "mimetype": "text/x-python",
   "name": "python",
   "nbconvert_exporter": "python",
   "pygments_lexer": "ipython3",
   "version": "3.5.1"
  }
 },
 "nbformat": 4,
 "nbformat_minor": 0
}
